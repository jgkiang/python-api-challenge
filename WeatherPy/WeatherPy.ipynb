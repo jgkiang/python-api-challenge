{
 "cells": [
  {
   "cell_type": "markdown",
   "metadata": {},
   "source": [
    "# WeatherPy\n",
    "----\n",
    "\n",
    "#### Note\n",
    "* Instructions have been included for each segment. You do not have to follow them exactly, but they are included to help you think through the steps."
   ]
  },
  {
   "cell_type": "code",
   "execution_count": 1,
   "metadata": {
    "scrolled": true
   },
   "outputs": [],
   "source": [
    "# Dependencies and Setup\n",
    "import matplotlib.pyplot as plt\n",
    "import pandas as pd\n",
    "import numpy as np\n",
    "import requests\n",
    "import time\n",
    "from scipy.stats import linregress\n",
    "\n",
    "# Import API key\n",
    "from config import api_key\n",
    "\n",
    "# Incorporated citipy to determine city based on latitude and longitude\n",
    "from citipy import citipy\n",
    "\n",
    "# Output File (CSV)\n",
    "output_data_file = \"output_data/cities.csv\"\n",
    "\n",
    "# Range of latitudes and longitudes\n",
    "lat_range = (-90, 90)\n",
    "lng_range = (-180, 180)"
   ]
  },
  {
   "cell_type": "markdown",
   "metadata": {},
   "source": [
    "## Generate Cities List"
   ]
  },
  {
   "cell_type": "code",
   "execution_count": 2,
   "metadata": {},
   "outputs": [
    {
     "data": {
      "text/plain": [
       "617"
      ]
     },
     "execution_count": 2,
     "metadata": {},
     "output_type": "execute_result"
    }
   ],
   "source": [
    "# List for holding lat_lngs and cities\n",
    "lat_lngs = []\n",
    "cities = []\n",
    "\n",
    "# Create a set of random lat and lng combinations\n",
    "lats = np.random.uniform(lat_range[0], lat_range[1], size=1500)\n",
    "lngs = np.random.uniform(lng_range[0], lng_range[1], size=1500)\n",
    "lat_lngs = zip(lats, lngs)\n",
    "\n",
    "# Identify nearest city for each lat, lng combination\n",
    "for lat_lng in lat_lngs:\n",
    "    city = citipy.nearest_city(lat_lng[0], lat_lng[1]).city_name\n",
    "    \n",
    "    # If the city is unique, then add it to a our cities list\n",
    "    if city not in cities:\n",
    "        cities.append(city)\n",
    "\n",
    "# Print the city count to confirm sufficient count\n",
    "len(cities)"
   ]
  },
  {
   "cell_type": "markdown",
   "metadata": {},
   "source": [
    "### Perform API Calls\n",
    "* Perform a weather check on each city using a series of successive API calls.\n",
    "* Include a print log of each city as it'sbeing processed (with the city number and city name).\n",
    "\n",
    "> **HINT:** The OpenWeatherMap API only allows 60 calls per minute under their free plan. Try using `time.sleep(60)` after each set of 50 cities to avoid API errors due to large calls."
   ]
  },
  {
   "cell_type": "code",
   "execution_count": 3,
   "metadata": {
    "scrolled": true
   },
   "outputs": [
    {
     "name": "stdout",
     "output_type": "stream",
     "text": [
      "Beginning Data Retrieval\n",
      "Processing Record 1 of Set 1 | mataura\n",
      "Processing Record 2 of Set 1 | bengkulu\n",
      "Processing Record 3 of Set 1 | puerto ayora\n",
      "Processing Record 4 of Set 1 | effium\n",
      "Processing Record 5 of Set 1 | vaitupu\n",
      "Sorry, city not found\n",
      "Processing Record 5 of Set 1 | keetmanshoop\n",
      "Processing Record 6 of Set 1 | provideniya\n",
      "Processing Record 7 of Set 1 | honningsvag\n",
      "Processing Record 8 of Set 1 | vestbygda\n",
      "Sorry, city not found\n",
      "Processing Record 8 of Set 1 | codrington\n",
      "Processing Record 9 of Set 1 | ilulissat\n",
      "Processing Record 10 of Set 1 | cabo san lucas\n",
      "Processing Record 11 of Set 1 | hobart\n",
      "Processing Record 12 of Set 1 | mahebourg\n",
      "Processing Record 13 of Set 1 | zyryanovsk\n",
      "Processing Record 14 of Set 1 | ahipara\n",
      "Processing Record 15 of Set 1 | kenai\n",
      "Processing Record 16 of Set 1 | khatanga\n",
      "Processing Record 17 of Set 1 | mogochin\n",
      "Sorry, city not found\n",
      "Processing Record 17 of Set 1 | kruisfontein\n",
      "Processing Record 18 of Set 1 | wajima\n",
      "Processing Record 19 of Set 1 | kodiak\n",
      "Processing Record 20 of Set 1 | labutta\n",
      "Sorry, city not found\n",
      "Processing Record 20 of Set 1 | providencia\n",
      "Processing Record 21 of Set 1 | norman wells\n",
      "Processing Record 22 of Set 1 | katsuura\n",
      "Processing Record 23 of Set 1 | padang\n",
      "Processing Record 24 of Set 1 | tuktoyaktuk\n",
      "Processing Record 25 of Set 1 | aripuana\n",
      "Processing Record 26 of Set 1 | port alfred\n",
      "Processing Record 27 of Set 1 | saint-pierre\n",
      "Processing Record 28 of Set 1 | albany\n",
      "Processing Record 29 of Set 1 | busselton\n",
      "Processing Record 30 of Set 1 | tasiilaq\n",
      "Processing Record 31 of Set 1 | sao jose da coroa grande\n",
      "Processing Record 32 of Set 1 | tutoia\n",
      "Processing Record 33 of Set 1 | cape town\n",
      "Processing Record 34 of Set 1 | illoqqortoormiut\n",
      "Sorry, city not found\n",
      "Processing Record 34 of Set 1 | kalmunai\n",
      "Processing Record 35 of Set 1 | punta arenas\n",
      "Processing Record 36 of Set 1 | arraial do cabo\n",
      "Processing Record 37 of Set 1 | ribeira grande\n",
      "Processing Record 38 of Set 1 | airai\n",
      "Processing Record 39 of Set 1 | vaini\n",
      "Processing Record 40 of Set 1 | houston\n",
      "Processing Record 41 of Set 1 | ushuaia\n",
      "Processing Record 42 of Set 1 | lavrentiya\n",
      "Processing Record 43 of Set 1 | umzimvubu\n",
      "Sorry, city not found\n",
      "Processing Record 43 of Set 1 | fortuna\n",
      "Processing Record 44 of Set 1 | evensk\n",
      "Processing Record 45 of Set 1 | lompoc\n",
      "Processing Record 46 of Set 1 | nanortalik\n",
      "Processing Record 47 of Set 1 | taolanaro\n",
      "Sorry, city not found\n",
      "Processing Record 47 of Set 1 | oranjestad\n",
      "Processing Record 48 of Set 1 | neftcala\n",
      "Processing Record 49 of Set 1 | san patricio\n",
      "Processing Record 50 of Set 1 | damietta\n",
      "Processing Record 1 of Set 2 | teya\n",
      "Processing Record 2 of Set 2 | tabou\n",
      "Processing Record 3 of Set 2 | paita\n",
      "Processing Record 4 of Set 2 | russkaya polyana\n",
      "Processing Record 5 of Set 2 | labuhan\n",
      "Processing Record 6 of Set 2 | rikitea\n",
      "Processing Record 7 of Set 2 | carnarvon\n",
      "Processing Record 8 of Set 2 | camocim\n",
      "Processing Record 9 of Set 2 | san quintin\n",
      "Processing Record 10 of Set 2 | sakakah\n",
      "Processing Record 11 of Set 2 | itoman\n",
      "Processing Record 12 of Set 2 | lagoa\n",
      "Processing Record 13 of Set 2 | kapaa\n",
      "Processing Record 14 of Set 2 | miri\n",
      "Processing Record 15 of Set 2 | pauini\n",
      "Processing Record 16 of Set 2 | matara\n",
      "Processing Record 17 of Set 2 | bluff\n",
      "Processing Record 18 of Set 2 | avarua\n",
      "Processing Record 19 of Set 2 | pandan\n",
      "Processing Record 20 of Set 2 | barentsburg\n",
      "Sorry, city not found\n",
      "Processing Record 20 of Set 2 | hilo\n",
      "Processing Record 21 of Set 2 | ondorhaan\n",
      "Sorry, city not found\n",
      "Processing Record 21 of Set 2 | clyde river\n",
      "Processing Record 22 of Set 2 | iranshahr\n",
      "Processing Record 23 of Set 2 | chapais\n",
      "Processing Record 24 of Set 2 | half moon bay\n",
      "Processing Record 25 of Set 2 | saskylakh\n",
      "Processing Record 26 of Set 2 | bambous virieux\n",
      "Processing Record 27 of Set 2 | esperance\n",
      "Processing Record 28 of Set 2 | dikson\n",
      "Processing Record 29 of Set 2 | del rio\n",
      "Processing Record 30 of Set 2 | alofi\n",
      "Processing Record 31 of Set 2 | mount isa\n",
      "Processing Record 32 of Set 2 | mar del plata\n",
      "Processing Record 33 of Set 2 | paamiut\n",
      "Processing Record 34 of Set 2 | longyearbyen\n",
      "Processing Record 35 of Set 2 | balakhta\n",
      "Processing Record 36 of Set 2 | hermanus\n",
      "Processing Record 37 of Set 2 | la macarena\n",
      "Processing Record 38 of Set 2 | saint-augustin\n",
      "Processing Record 39 of Set 2 | nizhneyansk\n",
      "Sorry, city not found\n",
      "Processing Record 39 of Set 2 | kushima\n",
      "Processing Record 40 of Set 2 | bredasdorp\n",
      "Processing Record 41 of Set 2 | laguna de perlas\n",
      "Processing Record 42 of Set 2 | lebu\n",
      "Processing Record 43 of Set 2 | faanui\n",
      "Processing Record 44 of Set 2 | burica\n",
      "Sorry, city not found\n",
      "Processing Record 44 of Set 2 | kumi\n",
      "Processing Record 45 of Set 2 | bethel\n",
      "Processing Record 46 of Set 2 | kalemie\n",
      "Processing Record 47 of Set 2 | paso de los toros\n",
      "Processing Record 48 of Set 2 | oranjemund\n",
      "Processing Record 49 of Set 2 | new norfolk\n",
      "Processing Record 50 of Set 2 | taltal\n",
      "Processing Record 1 of Set 3 | east london\n",
      "Processing Record 2 of Set 3 | nikolskoye\n",
      "Processing Record 3 of Set 3 | roebourne\n",
      "Processing Record 4 of Set 3 | castro\n",
      "Processing Record 5 of Set 3 | ryotsu\n",
      "Processing Record 6 of Set 3 | urusha\n",
      "Processing Record 7 of Set 3 | dunedin\n",
      "Processing Record 8 of Set 3 | menongue\n",
      "Processing Record 9 of Set 3 | mana\n",
      "Processing Record 10 of Set 3 | olafsvik\n",
      "Processing Record 11 of Set 3 | mizdah\n",
      "Processing Record 12 of Set 3 | iqaluit\n",
      "Processing Record 13 of Set 3 | butaritari\n",
      "Processing Record 14 of Set 3 | paoua\n",
      "Processing Record 15 of Set 3 | ha tinh\n",
      "Processing Record 16 of Set 3 | qaanaaq\n",
      "Processing Record 17 of Set 3 | makakilo city\n",
      "Processing Record 18 of Set 3 | basco\n",
      "Processing Record 19 of Set 3 | port-gentil\n",
      "Processing Record 20 of Set 3 | puerto colombia\n",
      "Processing Record 21 of Set 3 | attawapiskat\n",
      "Sorry, city not found\n",
      "Processing Record 21 of Set 3 | sao filipe\n",
      "Processing Record 22 of Set 3 | bargal\n",
      "Sorry, city not found\n",
      "Processing Record 22 of Set 3 | middelburg\n",
      "Processing Record 23 of Set 3 | ostrovnoy\n",
      "Processing Record 24 of Set 3 | guasdualito\n",
      "Processing Record 25 of Set 3 | axim\n",
      "Processing Record 26 of Set 3 | iquique\n",
      "Processing Record 27 of Set 3 | neryungri\n",
      "Processing Record 28 of Set 3 | torbay\n",
      "Processing Record 29 of Set 3 | sal rei\n",
      "Processing Record 30 of Set 3 | xiangdong\n",
      "Sorry, city not found\n",
      "Processing Record 30 of Set 3 | tabuk\n",
      "Processing Record 31 of Set 3 | marsabit\n",
      "Processing Record 32 of Set 3 | vilhena\n",
      "Processing Record 33 of Set 3 | atuona\n",
      "Processing Record 34 of Set 3 | chagda\n",
      "Sorry, city not found\n",
      "Processing Record 34 of Set 3 | salalah\n",
      "Processing Record 35 of Set 3 | guerrero negro\n",
      "Processing Record 36 of Set 3 | altamont\n",
      "Processing Record 37 of Set 3 | saint george\n",
      "Processing Record 38 of Set 3 | belushya guba\n",
      "Sorry, city not found\n",
      "Processing Record 38 of Set 3 | staryy biser\n",
      "Sorry, city not found\n",
      "Processing Record 38 of Set 3 | thinadhoo\n",
      "Processing Record 39 of Set 3 | homer\n",
      "Processing Record 40 of Set 3 | springdale\n",
      "Processing Record 41 of Set 3 | saint-philippe\n",
      "Processing Record 42 of Set 3 | ancud\n",
      "Processing Record 43 of Set 3 | adrar\n",
      "Processing Record 44 of Set 3 | alyangula\n",
      "Processing Record 45 of Set 3 | suntar\n",
      "Processing Record 46 of Set 3 | la rioja\n",
      "Processing Record 47 of Set 3 | madimba\n",
      "Processing Record 48 of Set 3 | thohoyandou\n",
      "Processing Record 49 of Set 3 | taua\n",
      "Processing Record 50 of Set 3 | melfi\n",
      "Processing Record 1 of Set 4 | fort beaufort\n",
      "Processing Record 2 of Set 4 | choluteca\n",
      "Processing Record 3 of Set 4 | thompson\n",
      "Processing Record 4 of Set 4 | yerbogachen\n",
      "Processing Record 5 of Set 4 | margate\n",
      "Processing Record 6 of Set 4 | bolungarvik\n",
      "Sorry, city not found\n",
      "Processing Record 6 of Set 4 | upernavik\n",
      "Processing Record 7 of Set 4 | jamestown\n",
      "Processing Record 8 of Set 4 | port hope\n",
      "Processing Record 9 of Set 4 | tessalit\n",
      "Processing Record 10 of Set 4 | garsten\n",
      "Processing Record 11 of Set 4 | nelson bay\n",
      "Processing Record 12 of Set 4 | batemans bay\n",
      "Processing Record 13 of Set 4 | sorland\n",
      "Processing Record 14 of Set 4 | plettenberg bay\n",
      "Processing Record 15 of Set 4 | kirovskiy\n",
      "Processing Record 16 of Set 4 | tiksi\n",
      "Processing Record 17 of Set 4 | karratha\n",
      "Processing Record 18 of Set 4 | manta\n",
      "Processing Record 19 of Set 4 | burkhala\n",
      "Sorry, city not found\n",
      "Processing Record 19 of Set 4 | smithers\n"
     ]
    },
    {
     "name": "stdout",
     "output_type": "stream",
     "text": [
      "Processing Record 20 of Set 4 | rungata\n",
      "Sorry, city not found\n",
      "Processing Record 20 of Set 4 | yellowknife\n",
      "Processing Record 21 of Set 4 | qui nhon\n",
      "Processing Record 22 of Set 4 | vostok\n",
      "Processing Record 23 of Set 4 | luderitz\n",
      "Processing Record 24 of Set 4 | kurtalan\n",
      "Processing Record 25 of Set 4 | touros\n",
      "Processing Record 26 of Set 4 | husavik\n",
      "Processing Record 27 of Set 4 | olinda\n",
      "Processing Record 28 of Set 4 | tishchenskoye\n",
      "Processing Record 29 of Set 4 | aswan\n",
      "Processing Record 30 of Set 4 | kavieng\n",
      "Processing Record 31 of Set 4 | susanino\n",
      "Processing Record 32 of Set 4 | port elizabeth\n",
      "Processing Record 33 of Set 4 | kloulklubed\n",
      "Processing Record 34 of Set 4 | altay\n",
      "Processing Record 35 of Set 4 | cape elizabeth\n",
      "Sorry, city not found\n",
      "Processing Record 35 of Set 4 | fort nelson\n",
      "Processing Record 36 of Set 4 | inta\n",
      "Processing Record 37 of Set 4 | formoso do araguaia\n",
      "Sorry, city not found\n",
      "Processing Record 37 of Set 4 | okhotsk\n",
      "Processing Record 38 of Set 4 | ponta do sol\n",
      "Processing Record 39 of Set 4 | hue\n",
      "Processing Record 40 of Set 4 | youghal\n",
      "Processing Record 41 of Set 4 | kirove\n",
      "Processing Record 42 of Set 4 | pahuatlan\n",
      "Sorry, city not found\n",
      "Processing Record 42 of Set 4 | varkkallai\n",
      "Processing Record 43 of Set 4 | hithadhoo\n",
      "Processing Record 44 of Set 4 | la asuncion\n",
      "Processing Record 45 of Set 4 | arman\n",
      "Processing Record 46 of Set 4 | key west\n",
      "Processing Record 47 of Set 4 | sentyabrskiy\n",
      "Sorry, city not found\n",
      "Processing Record 47 of Set 4 | mallow\n",
      "Processing Record 48 of Set 4 | palabuhanratu\n",
      "Sorry, city not found\n",
      "Processing Record 48 of Set 4 | ballina\n",
      "Processing Record 49 of Set 4 | marsa matruh\n",
      "Processing Record 50 of Set 4 | sitka\n",
      "Processing Record 1 of Set 5 | haradok\n",
      "Processing Record 2 of Set 5 | matamoros\n",
      "Processing Record 3 of Set 5 | nouadhibou\n",
      "Processing Record 4 of Set 5 | shurugwi\n",
      "Processing Record 5 of Set 5 | beatrice\n",
      "Processing Record 6 of Set 5 | hobyo\n",
      "Processing Record 7 of Set 5 | souillac\n",
      "Processing Record 8 of Set 5 | alice springs\n",
      "Processing Record 9 of Set 5 | foam lake\n",
      "Processing Record 10 of Set 5 | avigliana\n",
      "Processing Record 11 of Set 5 | tiznit\n",
      "Processing Record 12 of Set 5 | dzhebariki-khaya\n",
      "Processing Record 13 of Set 5 | hofn\n",
      "Processing Record 14 of Set 5 | sunds\n",
      "Processing Record 15 of Set 5 | kadhan\n",
      "Processing Record 16 of Set 5 | mnogovershinnyy\n",
      "Processing Record 17 of Set 5 | barrow\n",
      "Processing Record 18 of Set 5 | yining\n",
      "Processing Record 19 of Set 5 | fairbanks\n",
      "Processing Record 20 of Set 5 | ibipora\n",
      "Processing Record 21 of Set 5 | pangnirtung\n",
      "Processing Record 22 of Set 5 | cabedelo\n",
      "Processing Record 23 of Set 5 | geraldton\n",
      "Processing Record 24 of Set 5 | calvinia\n",
      "Processing Record 25 of Set 5 | innisfail\n",
      "Processing Record 26 of Set 5 | aksarayskiy\n",
      "Processing Record 27 of Set 5 | roald\n",
      "Processing Record 28 of Set 5 | nome\n",
      "Processing Record 29 of Set 5 | chokurdakh\n",
      "Processing Record 30 of Set 5 | florestopolis\n",
      "Processing Record 31 of Set 5 | morehead\n",
      "Processing Record 32 of Set 5 | guapiles\n",
      "Processing Record 33 of Set 5 | avera\n",
      "Processing Record 34 of Set 5 | sechura\n",
      "Processing Record 35 of Set 5 | tual\n",
      "Processing Record 36 of Set 5 | quatre cocos\n",
      "Processing Record 37 of Set 5 | acarau\n",
      "Processing Record 38 of Set 5 | tsihombe\n",
      "Sorry, city not found\n",
      "Processing Record 38 of Set 5 | el alto\n",
      "Processing Record 39 of Set 5 | namibe\n",
      "Processing Record 40 of Set 5 | palmer\n",
      "Processing Record 41 of Set 5 | matay\n",
      "Processing Record 42 of Set 5 | sinnamary\n",
      "Processing Record 43 of Set 5 | lekoni\n",
      "Processing Record 44 of Set 5 | georgetown\n",
      "Processing Record 45 of Set 5 | kieta\n",
      "Processing Record 46 of Set 5 | zhanaozen\n",
      "Processing Record 47 of Set 5 | wajid\n",
      "Processing Record 48 of Set 5 | kaitangata\n",
      "Processing Record 49 of Set 5 | porto santo\n",
      "Processing Record 50 of Set 5 | ocos\n",
      "Processing Record 1 of Set 6 | ust-tarka\n",
      "Processing Record 2 of Set 6 | mumford\n",
      "Processing Record 3 of Set 6 | murgab\n",
      "Processing Record 4 of Set 6 | mys shmidta\n",
      "Sorry, city not found\n",
      "Processing Record 4 of Set 6 | manado\n",
      "Processing Record 5 of Set 6 | puqi\n",
      "Processing Record 6 of Set 6 | amderma\n",
      "Sorry, city not found\n",
      "Processing Record 6 of Set 6 | tuatapere\n",
      "Processing Record 7 of Set 6 | rock sound\n",
      "Processing Record 8 of Set 6 | nadym\n",
      "Processing Record 9 of Set 6 | port macquarie\n",
      "Processing Record 10 of Set 6 | high level\n",
      "Processing Record 11 of Set 6 | bubaque\n",
      "Processing Record 12 of Set 6 | entre rios\n",
      "Processing Record 13 of Set 6 | shasta lake\n",
      "Processing Record 14 of Set 6 | solnechnyy\n",
      "Processing Record 15 of Set 6 | abha\n",
      "Processing Record 16 of Set 6 | kasane\n",
      "Processing Record 17 of Set 6 | umm lajj\n",
      "Processing Record 18 of Set 6 | kapoeta\n",
      "Processing Record 19 of Set 6 | soto la marina\n",
      "Processing Record 20 of Set 6 | libenge\n",
      "Processing Record 21 of Set 6 | kahului\n",
      "Processing Record 22 of Set 6 | mackay\n",
      "Processing Record 23 of Set 6 | los llanos de aridane\n",
      "Processing Record 24 of Set 6 | beyla\n",
      "Processing Record 25 of Set 6 | richards bay\n",
      "Processing Record 26 of Set 6 | pyshma\n",
      "Processing Record 27 of Set 6 | cherskiy\n",
      "Processing Record 28 of Set 6 | sydney\n",
      "Processing Record 29 of Set 6 | srivardhan\n",
      "Processing Record 30 of Set 6 | cody\n",
      "Processing Record 31 of Set 6 | vila velha\n",
      "Processing Record 32 of Set 6 | aberdeen\n",
      "Processing Record 33 of Set 6 | dali\n",
      "Processing Record 34 of Set 6 | hasaki\n",
      "Processing Record 35 of Set 6 | pemangkat\n",
      "Processing Record 36 of Set 6 | tera\n",
      "Processing Record 37 of Set 6 | kurumkan\n",
      "Processing Record 38 of Set 6 | darhan\n",
      "Processing Record 39 of Set 6 | la peca\n",
      "Processing Record 40 of Set 6 | lawrence\n",
      "Processing Record 41 of Set 6 | baie-comeau\n",
      "Processing Record 42 of Set 6 | takoradi\n",
      "Processing Record 43 of Set 6 | nha trang\n",
      "Processing Record 44 of Set 6 | lorengau\n",
      "Processing Record 45 of Set 6 | kimparana\n",
      "Processing Record 46 of Set 6 | hambantota\n",
      "Processing Record 47 of Set 6 | bac lieu\n",
      "Processing Record 48 of Set 6 | umea\n",
      "Processing Record 49 of Set 6 | victoria\n",
      "Processing Record 50 of Set 6 | veinticinco de mayo\n",
      "Processing Record 1 of Set 7 | batsfjord\n",
      "Processing Record 2 of Set 7 | placido de castro\n",
      "Processing Record 3 of Set 7 | pryozerne\n",
      "Processing Record 4 of Set 7 | ossora\n",
      "Processing Record 5 of Set 7 | znamenskoye\n",
      "Processing Record 6 of Set 7 | manggar\n",
      "Processing Record 7 of Set 7 | baculin\n",
      "Processing Record 8 of Set 7 | saint-georges\n",
      "Processing Record 9 of Set 7 | bokspits\n",
      "Sorry, city not found\n",
      "Processing Record 9 of Set 7 | poronaysk\n",
      "Processing Record 10 of Set 7 | srednekolymsk\n",
      "Processing Record 11 of Set 7 | broome\n",
      "Processing Record 12 of Set 7 | doctor pedro p. pena\n",
      "Sorry, city not found\n",
      "Processing Record 12 of Set 7 | taitung\n",
      "Processing Record 13 of Set 7 | henties bay\n",
      "Processing Record 14 of Set 7 | besleney\n",
      "Processing Record 15 of Set 7 | naze\n",
      "Processing Record 16 of Set 7 | taunggyi\n",
      "Processing Record 17 of Set 7 | krasnoselkup\n",
      "Processing Record 18 of Set 7 | muisne\n",
      "Processing Record 19 of Set 7 | luanda\n",
      "Processing Record 20 of Set 7 | zhigansk\n",
      "Processing Record 21 of Set 7 | vardo\n",
      "Processing Record 22 of Set 7 | sahrak\n",
      "Sorry, city not found\n",
      "Processing Record 22 of Set 7 | pevek\n",
      "Processing Record 23 of Set 7 | navolato\n",
      "Processing Record 24 of Set 7 | surt\n",
      "Processing Record 25 of Set 7 | hudiksvall\n",
      "Processing Record 26 of Set 7 | fianga\n",
      "Sorry, city not found\n",
      "Processing Record 26 of Set 7 | klaksvik\n",
      "Processing Record 27 of Set 7 | namatanai\n",
      "Processing Record 28 of Set 7 | safidon\n",
      "Processing Record 29 of Set 7 | pestravka\n",
      "Processing Record 30 of Set 7 | baiyin\n",
      "Processing Record 31 of Set 7 | lukulu\n",
      "Processing Record 32 of Set 7 | bud\n",
      "Processing Record 33 of Set 7 | verkhoyansk\n",
      "Processing Record 34 of Set 7 | huarmey\n",
      "Processing Record 35 of Set 7 | chuy\n",
      "Processing Record 36 of Set 7 | muzhi\n",
      "Processing Record 37 of Set 7 | saldanha\n",
      "Processing Record 38 of Set 7 | flinders\n",
      "Processing Record 39 of Set 7 | kyren\n",
      "Processing Record 40 of Set 7 | rocha\n",
      "Processing Record 41 of Set 7 | yulara\n",
      "Processing Record 42 of Set 7 | makurdi\n",
      "Processing Record 43 of Set 7 | bandarbeyla\n",
      "Processing Record 44 of Set 7 | novopokrovka\n",
      "Processing Record 45 of Set 7 | lakatoro\n",
      "Processing Record 46 of Set 7 | tura\n",
      "Processing Record 47 of Set 7 | walvis bay\n",
      "Processing Record 48 of Set 7 | atar\n",
      "Processing Record 49 of Set 7 | lata\n"
     ]
    },
    {
     "name": "stdout",
     "output_type": "stream",
     "text": [
      "Processing Record 50 of Set 7 | aklavik\n",
      "Processing Record 1 of Set 8 | wejherowo\n",
      "Processing Record 2 of Set 8 | louisbourg\n",
      "Sorry, city not found\n",
      "Processing Record 2 of Set 8 | perth\n",
      "Processing Record 3 of Set 8 | taseyevo\n",
      "Processing Record 4 of Set 8 | dillon\n",
      "Processing Record 5 of Set 8 | nauta\n",
      "Processing Record 6 of Set 8 | kununurra\n",
      "Processing Record 7 of Set 8 | zeya\n",
      "Processing Record 8 of Set 8 | bardiyah\n",
      "Processing Record 9 of Set 8 | port hardy\n",
      "Processing Record 10 of Set 8 | zhanatas\n",
      "Sorry, city not found\n",
      "Processing Record 10 of Set 8 | emerald\n",
      "Processing Record 11 of Set 8 | coquimbo\n",
      "Processing Record 12 of Set 8 | korla\n",
      "Processing Record 13 of Set 8 | constitucion\n",
      "Processing Record 14 of Set 8 | opuwo\n",
      "Processing Record 15 of Set 8 | launceston\n",
      "Processing Record 16 of Set 8 | marawi\n",
      "Processing Record 17 of Set 8 | wanxian\n",
      "Processing Record 18 of Set 8 | simeykyne\n",
      "Processing Record 19 of Set 8 | matata\n",
      "Processing Record 20 of Set 8 | hunza\n",
      "Sorry, city not found\n",
      "Processing Record 20 of Set 8 | havre-saint-pierre\n",
      "Processing Record 21 of Set 8 | komsomolskiy\n",
      "Processing Record 22 of Set 8 | arrifes\n",
      "Processing Record 23 of Set 8 | alakurtti\n",
      "Processing Record 24 of Set 8 | belyy yar\n",
      "Processing Record 25 of Set 8 | oriximina\n",
      "Processing Record 26 of Set 8 | mount gambier\n",
      "Processing Record 27 of Set 8 | kushiro\n",
      "Processing Record 28 of Set 8 | bathsheba\n",
      "Processing Record 29 of Set 8 | kandrian\n",
      "Processing Record 30 of Set 8 | pemberton\n",
      "Processing Record 31 of Set 8 | puerto escondido\n",
      "Processing Record 32 of Set 8 | krivosheino\n",
      "Processing Record 33 of Set 8 | marathon\n",
      "Processing Record 34 of Set 8 | praxedis guerrero\n",
      "Processing Record 35 of Set 8 | shingu\n",
      "Processing Record 36 of Set 8 | kofarnihon\n",
      "Sorry, city not found\n",
      "Processing Record 36 of Set 8 | beyneu\n",
      "Processing Record 37 of Set 8 | bereda\n",
      "Processing Record 38 of Set 8 | kosa\n",
      "Processing Record 39 of Set 8 | samusu\n",
      "Sorry, city not found\n",
      "Processing Record 39 of Set 8 | bonavista\n",
      "Processing Record 40 of Set 8 | valley city\n",
      "Processing Record 41 of Set 8 | yabrud\n",
      "Processing Record 42 of Set 8 | laredo\n",
      "Processing Record 43 of Set 8 | cayenne\n",
      "Processing Record 44 of Set 8 | salinas\n",
      "Processing Record 45 of Set 8 | durusu\n",
      "Processing Record 46 of Set 8 | kumbo\n",
      "Processing Record 47 of Set 8 | grand river south east\n",
      "Sorry, city not found\n",
      "Processing Record 47 of Set 8 | chake chake\n",
      "Processing Record 48 of Set 8 | vagur\n",
      "Processing Record 49 of Set 8 | port hedland\n",
      "Processing Record 50 of Set 8 | antalaha\n",
      "Processing Record 1 of Set 9 | jieshou\n",
      "Processing Record 2 of Set 9 | phan thiet\n",
      "Processing Record 3 of Set 9 | kuah\n",
      "Processing Record 4 of Set 9 | yumen\n",
      "Processing Record 5 of Set 9 | trapani\n",
      "Processing Record 6 of Set 9 | kuytun\n",
      "Processing Record 7 of Set 9 | vao\n",
      "Processing Record 8 of Set 9 | yanchukan\n",
      "Sorry, city not found\n",
      "Processing Record 8 of Set 9 | san cristobal\n",
      "Processing Record 9 of Set 9 | xambioa\n",
      "Processing Record 10 of Set 9 | kargasok\n",
      "Processing Record 11 of Set 9 | papasquiaro\n",
      "Sorry, city not found\n",
      "Processing Record 11 of Set 9 | qasigiannguit\n",
      "Processing Record 12 of Set 9 | eyl\n",
      "Processing Record 13 of Set 9 | inirida\n",
      "Processing Record 14 of Set 9 | bonnyville\n",
      "Processing Record 15 of Set 9 | jacmel\n",
      "Processing Record 16 of Set 9 | beringovskiy\n",
      "Processing Record 17 of Set 9 | pacific grove\n",
      "Processing Record 18 of Set 9 | rundu\n",
      "Processing Record 19 of Set 9 | cerrito\n",
      "Processing Record 20 of Set 9 | tarnobrzeg\n",
      "Processing Record 21 of Set 9 | nishihara\n",
      "Processing Record 22 of Set 9 | goderich\n",
      "Processing Record 23 of Set 9 | mayya\n",
      "Processing Record 24 of Set 9 | conde\n",
      "Processing Record 25 of Set 9 | sibolga\n",
      "Processing Record 26 of Set 9 | port blair\n",
      "Processing Record 27 of Set 9 | santa maria\n",
      "Processing Record 28 of Set 9 | san lawrenz\n",
      "Processing Record 29 of Set 9 | talnakh\n",
      "Processing Record 30 of Set 9 | wewak\n",
      "Processing Record 31 of Set 9 | toliary\n",
      "Sorry, city not found\n",
      "Processing Record 31 of Set 9 | mamou\n",
      "Processing Record 32 of Set 9 | lima\n",
      "Processing Record 33 of Set 9 | fort morgan\n",
      "Processing Record 34 of Set 9 | san miguel\n",
      "Processing Record 35 of Set 9 | santa cruz\n",
      "Processing Record 36 of Set 9 | tahta\n",
      "Processing Record 37 of Set 9 | gallipoli\n",
      "Processing Record 38 of Set 9 | darnah\n",
      "Processing Record 39 of Set 9 | cidreira\n",
      "Processing Record 40 of Set 9 | rio verde de mato grosso\n",
      "Processing Record 41 of Set 9 | turukhansk\n",
      "Processing Record 42 of Set 9 | coos bay\n",
      "Processing Record 43 of Set 9 | igarka\n",
      "Processing Record 44 of Set 9 | svetlopolyansk\n",
      "Processing Record 45 of Set 9 | bonthe\n",
      "Processing Record 46 of Set 9 | gondanglegi\n",
      "Processing Record 47 of Set 9 | calama\n",
      "Processing Record 48 of Set 9 | gwadar\n",
      "Processing Record 49 of Set 9 | flin flon\n",
      "Processing Record 50 of Set 9 | karauzyak\n",
      "Sorry, city not found\n",
      "Processing Record 50 of Set 9 | resende\n",
      "Processing Record 1 of Set 10 | kostomuksha\n",
      "Processing Record 2 of Set 10 | carutapera\n",
      "Processing Record 3 of Set 10 | minab\n",
      "Processing Record 4 of Set 10 | bandundu\n",
      "Processing Record 5 of Set 10 | tumannyy\n",
      "Sorry, city not found\n",
      "Processing Record 5 of Set 10 | moree\n",
      "Processing Record 6 of Set 10 | narsaq\n",
      "Processing Record 7 of Set 10 | khonuu\n",
      "Sorry, city not found\n",
      "Processing Record 7 of Set 10 | lumding\n",
      "Processing Record 8 of Set 10 | meyungs\n",
      "Sorry, city not found\n",
      "Processing Record 8 of Set 10 | mitchell\n",
      "Processing Record 9 of Set 10 | shalyhyne\n",
      "Processing Record 10 of Set 10 | puerto madero\n",
      "Processing Record 11 of Set 10 | bela\n",
      "Processing Record 12 of Set 10 | caravelas\n",
      "Processing Record 13 of Set 10 | suez\n",
      "Processing Record 14 of Set 10 | lasa\n",
      "Processing Record 15 of Set 10 | tazovskiy\n",
      "Processing Record 16 of Set 10 | myitkyina\n",
      "Processing Record 17 of Set 10 | acapulco\n",
      "Processing Record 18 of Set 10 | nuuk\n",
      "Processing Record 19 of Set 10 | berlevag\n",
      "Processing Record 20 of Set 10 | puerto del rosario\n",
      "Processing Record 21 of Set 10 | yeppoon\n",
      "Processing Record 22 of Set 10 | rio grande\n",
      "Processing Record 23 of Set 10 | pervomayskoye\n",
      "Processing Record 24 of Set 10 | pitimbu\n",
      "Processing Record 25 of Set 10 | ankang\n",
      "Processing Record 26 of Set 10 | poum\n",
      "Processing Record 27 of Set 10 | ust-kamchatsk\n",
      "Sorry, city not found\n",
      "Processing Record 27 of Set 10 | solyanka\n",
      "Processing Record 28 of Set 10 | benbrook\n",
      "Processing Record 29 of Set 10 | wangdiphodrang\n",
      "Sorry, city not found\n",
      "Processing Record 29 of Set 10 | guanambi\n",
      "Processing Record 30 of Set 10 | buraydah\n",
      "Processing Record 31 of Set 10 | nokaneng\n",
      "Processing Record 32 of Set 10 | omaha\n",
      "Processing Record 33 of Set 10 | segou\n",
      "Processing Record 34 of Set 10 | el wasta\n",
      "Sorry, city not found\n",
      "Processing Record 34 of Set 10 | faya\n",
      "Processing Record 35 of Set 10 | beidao\n",
      "Processing Record 36 of Set 10 | chizhou\n",
      "Processing Record 37 of Set 10 | orlik\n",
      "Processing Record 38 of Set 10 | nador\n",
      "Processing Record 39 of Set 10 | hami\n",
      "Processing Record 40 of Set 10 | worland\n",
      "Processing Record 41 of Set 10 | novikovo\n",
      "Processing Record 42 of Set 10 | vila franca do campo\n",
      "Processing Record 43 of Set 10 | sabha\n",
      "Processing Record 44 of Set 10 | greytown\n",
      "Processing Record 45 of Set 10 | ixtapa\n",
      "Processing Record 46 of Set 10 | te anau\n",
      "Processing Record 47 of Set 10 | meulaboh\n",
      "Processing Record 48 of Set 10 | guilin\n",
      "Processing Record 49 of Set 10 | hervey bay\n",
      "Processing Record 50 of Set 10 | dzhusaly\n",
      "Sorry, city not found\n",
      "Processing Record 50 of Set 10 | tawkar\n",
      "Sorry, city not found\n",
      "Processing Record 50 of Set 10 | khani\n",
      "Processing Record 1 of Set 11 | carbonia\n",
      "Processing Record 2 of Set 11 | pecsvarad\n",
      "Processing Record 3 of Set 11 | banswada\n",
      "Processing Record 4 of Set 11 | chara\n",
      "Processing Record 5 of Set 11 | zlobin\n",
      "Processing Record 6 of Set 11 | veraval\n",
      "Processing Record 7 of Set 11 | ejido\n",
      "Processing Record 8 of Set 11 | sorong\n",
      "Processing Record 9 of Set 11 | bocaranga\n",
      "Sorry, city not found\n",
      "Processing Record 9 of Set 11 | zambezi\n",
      "Processing Record 10 of Set 11 | willmar\n",
      "Processing Record 11 of Set 11 | banda aceh\n",
      "Processing Record 12 of Set 11 | pisco\n",
      "Processing Record 13 of Set 11 | gualaquiza\n",
      "Processing Record 14 of Set 11 | riyadh\n",
      "Processing Record 15 of Set 11 | chicama\n",
      "Processing Record 16 of Set 11 | warqla\n",
      "Sorry, city not found\n",
      "Processing Record 16 of Set 11 | pochutla\n",
      "Processing Record 17 of Set 11 | tautira\n",
      "Processing Record 18 of Set 11 | tiring\n"
     ]
    },
    {
     "name": "stdout",
     "output_type": "stream",
     "text": [
      "Processing Record 19 of Set 11 | espanola\n",
      "Processing Record 20 of Set 11 | bilibino\n",
      "Processing Record 21 of Set 11 | jalu\n",
      "Processing Record 22 of Set 11 | unye\n",
      "Sorry, city not found\n",
      "Processing Record 22 of Set 11 | hollins\n",
      "Processing Record 23 of Set 11 | khryashchevka\n",
      "Processing Record 24 of Set 11 | whitehorse\n",
      "Processing Record 25 of Set 11 | ayan\n",
      "Processing Record 26 of Set 11 | samarai\n",
      "Processing Record 27 of Set 11 | menomonie\n",
      "Processing Record 28 of Set 11 | strezhevoy\n",
      "Processing Record 29 of Set 11 | igrim\n",
      "Processing Record 30 of Set 11 | keti bandar\n",
      "Processing Record 31 of Set 11 | muroto\n",
      "Processing Record 32 of Set 11 | horsham\n",
      "Processing Record 33 of Set 11 | kearney\n",
      "Processing Record 34 of Set 11 | rovaniemi\n",
      "Processing Record 35 of Set 11 | hamilton\n",
      "Processing Record 36 of Set 11 | derzhavinsk\n",
      "Processing Record 37 of Set 11 | xingyi\n",
      "Processing Record 38 of Set 11 | lobito\n",
      "Processing Record 39 of Set 11 | asau\n",
      "Processing Record 40 of Set 11 | kilindoni\n",
      "Processing Record 41 of Set 11 | betioky\n",
      "Processing Record 42 of Set 11 | shenjiamen\n",
      "Processing Record 43 of Set 11 | gat\n",
      "Processing Record 44 of Set 11 | yagodnoye\n",
      "Processing Record 45 of Set 11 | suileng\n",
      "Processing Record 46 of Set 11 | brae\n",
      "Processing Record 47 of Set 11 | port lincoln\n",
      "Processing Record 48 of Set 11 | santiago\n",
      "Processing Record 49 of Set 11 | ilheus\n",
      "Processing Record 50 of Set 11 | najran\n",
      "Processing Record 1 of Set 12 | athikia\n",
      "Processing Record 2 of Set 12 | northam\n",
      "Processing Record 3 of Set 12 | booue\n",
      "Processing Record 4 of Set 12 | bitung\n",
      "Processing Record 5 of Set 12 | montepulciano\n",
      "Processing Record 6 of Set 12 | mbandaka\n",
      "Processing Record 7 of Set 12 | okha\n",
      "Processing Record 8 of Set 12 | amot\n",
      "Processing Record 9 of Set 12 | pravokumskoye\n",
      "Processing Record 10 of Set 12 | ola\n",
      "Processing Record 11 of Set 12 | rio de janeiro\n",
      "Processing Record 12 of Set 12 | wakkanai\n",
      "Processing Record 13 of Set 12 | zavoi\n",
      "Processing Record 14 of Set 12 | zabid\n"
     ]
    }
   ],
   "source": [
    "url = \"https://api.openweathermap.org/data/2.5/weather?\"\n",
    "units = \"metric\"\n",
    "\n",
    "rec_city = 1\n",
    "set_city = 1\n",
    "error = 0\n",
    "\n",
    "city_name = []\n",
    "countries = []\n",
    "lat = []\n",
    "lon = []\n",
    "temp = []\n",
    "humidity = []\n",
    "cloudiness = []\n",
    "wind_speed = []\n",
    "date_list = []\n",
    "\n",
    "print(\"Beginning Data Retrieval\")\n",
    "for city in cities:\n",
    "    query_url = f\"{url}appid={api_key}&units={units}&q=\"\n",
    "    print(f\"Processing Record {rec_city} of Set {set_city} | {city}\")\n",
    "    response = requests.get(query_url + city).json()\n",
    "    try:\n",
    "        city_name.append(response[\"name\"])\n",
    "        countries.append(response['sys']['country'])\n",
    "        lat.append(response['coord']['lat'])\n",
    "        lon.append(response['coord']['lon'])\n",
    "        temp.append(response['main']['temp'])\n",
    "        humidity.append(response['main']['humidity'])\n",
    "        cloudiness.append(response['clouds']['all'])\n",
    "        wind_speed.append(response['wind']['speed'])\n",
    "        date_list.append(response['dt'])\n",
    "        rec_city += 1\n",
    "    except:\n",
    "        print(\"Sorry, city not found\")\n",
    "        error = error + 1\n",
    "    if rec_city == 51:\n",
    "        set_city += 1\n",
    "        rec_city = 1\n",
    "        time.sleep(20)"
   ]
  },
  {
   "cell_type": "markdown",
   "metadata": {},
   "source": [
    "### Convert Raw Data to DataFrame\n",
    "* Export the city data into a .csv.\n",
    "* Display the DataFrame"
   ]
  },
  {
   "cell_type": "code",
   "execution_count": 5,
   "metadata": {},
   "outputs": [
    {
     "data": {
      "text/html": [
       "<div>\n",
       "<style scoped>\n",
       "    .dataframe tbody tr th:only-of-type {\n",
       "        vertical-align: middle;\n",
       "    }\n",
       "\n",
       "    .dataframe tbody tr th {\n",
       "        vertical-align: top;\n",
       "    }\n",
       "\n",
       "    .dataframe thead th {\n",
       "        text-align: right;\n",
       "    }\n",
       "</style>\n",
       "<table border=\"1\" class=\"dataframe\">\n",
       "  <thead>\n",
       "    <tr style=\"text-align: right;\">\n",
       "      <th></th>\n",
       "      <th>Cities</th>\n",
       "      <th>Countries</th>\n",
       "      <th>lat</th>\n",
       "      <th>lon</th>\n",
       "      <th>temp</th>\n",
       "      <th>humidity</th>\n",
       "      <th>cloudiness</th>\n",
       "      <th>wind speed</th>\n",
       "      <th>date</th>\n",
       "    </tr>\n",
       "  </thead>\n",
       "  <tbody>\n",
       "    <tr>\n",
       "      <th>0</th>\n",
       "      <td>Mataura</td>\n",
       "      <td>NZ</td>\n",
       "      <td>-46.1927</td>\n",
       "      <td>168.8643</td>\n",
       "      <td>21.93</td>\n",
       "      <td>36</td>\n",
       "      <td>100</td>\n",
       "      <td>3.25</td>\n",
       "      <td>1645159626</td>\n",
       "    </tr>\n",
       "    <tr>\n",
       "      <th>1</th>\n",
       "      <td>Bengkulu</td>\n",
       "      <td>ID</td>\n",
       "      <td>-3.8004</td>\n",
       "      <td>102.2655</td>\n",
       "      <td>28.87</td>\n",
       "      <td>64</td>\n",
       "      <td>99</td>\n",
       "      <td>1.43</td>\n",
       "      <td>1645159627</td>\n",
       "    </tr>\n",
       "    <tr>\n",
       "      <th>2</th>\n",
       "      <td>Puerto Ayora</td>\n",
       "      <td>EC</td>\n",
       "      <td>-0.7393</td>\n",
       "      <td>-90.3518</td>\n",
       "      <td>23.87</td>\n",
       "      <td>89</td>\n",
       "      <td>99</td>\n",
       "      <td>2.95</td>\n",
       "      <td>1645159627</td>\n",
       "    </tr>\n",
       "    <tr>\n",
       "      <th>3</th>\n",
       "      <td>Effium</td>\n",
       "      <td>NG</td>\n",
       "      <td>6.6292</td>\n",
       "      <td>8.0593</td>\n",
       "      <td>25.17</td>\n",
       "      <td>80</td>\n",
       "      <td>40</td>\n",
       "      <td>1.22</td>\n",
       "      <td>1645159628</td>\n",
       "    </tr>\n",
       "    <tr>\n",
       "      <th>4</th>\n",
       "      <td>Keetmanshoop</td>\n",
       "      <td>NA</td>\n",
       "      <td>-26.5833</td>\n",
       "      <td>18.1333</td>\n",
       "      <td>22.97</td>\n",
       "      <td>63</td>\n",
       "      <td>27</td>\n",
       "      <td>3.12</td>\n",
       "      <td>1645159629</td>\n",
       "    </tr>\n",
       "    <tr>\n",
       "      <th>...</th>\n",
       "      <td>...</td>\n",
       "      <td>...</td>\n",
       "      <td>...</td>\n",
       "      <td>...</td>\n",
       "      <td>...</td>\n",
       "      <td>...</td>\n",
       "      <td>...</td>\n",
       "      <td>...</td>\n",
       "      <td>...</td>\n",
       "    </tr>\n",
       "    <tr>\n",
       "      <th>559</th>\n",
       "      <td>Ola</td>\n",
       "      <td>RU</td>\n",
       "      <td>59.5833</td>\n",
       "      <td>151.2833</td>\n",
       "      <td>-15.80</td>\n",
       "      <td>76</td>\n",
       "      <td>79</td>\n",
       "      <td>5.25</td>\n",
       "      <td>1645160178</td>\n",
       "    </tr>\n",
       "    <tr>\n",
       "      <th>560</th>\n",
       "      <td>Rio de Janeiro</td>\n",
       "      <td>BR</td>\n",
       "      <td>-22.9028</td>\n",
       "      <td>-43.2075</td>\n",
       "      <td>23.00</td>\n",
       "      <td>94</td>\n",
       "      <td>75</td>\n",
       "      <td>1.54</td>\n",
       "      <td>1645160108</td>\n",
       "    </tr>\n",
       "    <tr>\n",
       "      <th>561</th>\n",
       "      <td>Wakkanai</td>\n",
       "      <td>JP</td>\n",
       "      <td>45.4094</td>\n",
       "      <td>141.6739</td>\n",
       "      <td>-4.01</td>\n",
       "      <td>74</td>\n",
       "      <td>75</td>\n",
       "      <td>9.26</td>\n",
       "      <td>1645160179</td>\n",
       "    </tr>\n",
       "    <tr>\n",
       "      <th>562</th>\n",
       "      <td>Zăvoi</td>\n",
       "      <td>RO</td>\n",
       "      <td>45.5167</td>\n",
       "      <td>22.4167</td>\n",
       "      <td>2.80</td>\n",
       "      <td>89</td>\n",
       "      <td>80</td>\n",
       "      <td>1.87</td>\n",
       "      <td>1645160179</td>\n",
       "    </tr>\n",
       "    <tr>\n",
       "      <th>563</th>\n",
       "      <td>Zabid</td>\n",
       "      <td>YE</td>\n",
       "      <td>14.1951</td>\n",
       "      <td>43.3152</td>\n",
       "      <td>24.89</td>\n",
       "      <td>72</td>\n",
       "      <td>12</td>\n",
       "      <td>1.87</td>\n",
       "      <td>1645160180</td>\n",
       "    </tr>\n",
       "  </tbody>\n",
       "</table>\n",
       "<p>564 rows × 9 columns</p>\n",
       "</div>"
      ],
      "text/plain": [
       "             Cities Countries      lat       lon   temp  humidity  cloudiness  \\\n",
       "0           Mataura        NZ -46.1927  168.8643  21.93        36         100   \n",
       "1          Bengkulu        ID  -3.8004  102.2655  28.87        64          99   \n",
       "2      Puerto Ayora        EC  -0.7393  -90.3518  23.87        89          99   \n",
       "3            Effium        NG   6.6292    8.0593  25.17        80          40   \n",
       "4      Keetmanshoop        NA -26.5833   18.1333  22.97        63          27   \n",
       "..              ...       ...      ...       ...    ...       ...         ...   \n",
       "559             Ola        RU  59.5833  151.2833 -15.80        76          79   \n",
       "560  Rio de Janeiro        BR -22.9028  -43.2075  23.00        94          75   \n",
       "561        Wakkanai        JP  45.4094  141.6739  -4.01        74          75   \n",
       "562           Zăvoi        RO  45.5167   22.4167   2.80        89          80   \n",
       "563           Zabid        YE  14.1951   43.3152  24.89        72          12   \n",
       "\n",
       "     wind speed        date  \n",
       "0          3.25  1645159626  \n",
       "1          1.43  1645159627  \n",
       "2          2.95  1645159627  \n",
       "3          1.22  1645159628  \n",
       "4          3.12  1645159629  \n",
       "..          ...         ...  \n",
       "559        5.25  1645160178  \n",
       "560        1.54  1645160108  \n",
       "561        9.26  1645160179  \n",
       "562        1.87  1645160179  \n",
       "563        1.87  1645160180  \n",
       "\n",
       "[564 rows x 9 columns]"
      ]
     },
     "execution_count": 5,
     "metadata": {},
     "output_type": "execute_result"
    }
   ],
   "source": [
    "weather_dict = {\n",
    "    \"Cities\": city_name,\n",
    "    \"Countries\": countries,\n",
    "    \"lat\": lat,\n",
    "    \"lon\": lon,\n",
    "    \"temp\": temp,\n",
    "    \"humidity\": humidity,\n",
    "    \"cloudiness\": cloudiness,\n",
    "    \"wind speed\": wind_speed,\n",
    "    \"date\": date_list\n",
    "}\n",
    "weather_df = pd.DataFrame(weather_dict)\n",
    "weather_df"
   ]
  },
  {
   "cell_type": "code",
   "execution_count": 7,
   "metadata": {},
   "outputs": [],
   "source": [
    "weather_df.to_csv(\"Output_Data/weather_output.csv\", encoding=\"utf-8\", index=False)"
   ]
  },
  {
   "cell_type": "markdown",
   "metadata": {},
   "source": [
    "## Inspect the data and remove the cities where the humidity > 100%.\n",
    "----\n",
    "Skip this step if there are no cities that have humidity > 100%. "
   ]
  },
  {
   "cell_type": "code",
   "execution_count": null,
   "metadata": {},
   "outputs": [],
   "source": []
  },
  {
   "cell_type": "code",
   "execution_count": null,
   "metadata": {},
   "outputs": [],
   "source": [
    "#  Get the indices of cities that have humidity over 100%.\n"
   ]
  },
  {
   "cell_type": "code",
   "execution_count": null,
   "metadata": {},
   "outputs": [],
   "source": [
    "# Make a new DataFrame equal to the city data to drop all humidity outliers by index.\n",
    "# Passing \"inplace=False\" will make a copy of the city_data DataFrame, which we call \"clean_city_data\".\n"
   ]
  },
  {
   "cell_type": "code",
   "execution_count": null,
   "metadata": {},
   "outputs": [],
   "source": [
    "\n"
   ]
  },
  {
   "cell_type": "markdown",
   "metadata": {},
   "source": [
    "## Plotting the Data\n",
    "* Use proper labeling of the plots using plot titles (including date of analysis) and axes labels.\n",
    "* Save the plotted figures as .pngs."
   ]
  },
  {
   "cell_type": "code",
   "execution_count": null,
   "metadata": {},
   "outputs": [],
   "source": []
  },
  {
   "cell_type": "markdown",
   "metadata": {},
   "source": [
    "## Latitude vs. Temperature Plot"
   ]
  },
  {
   "cell_type": "code",
   "execution_count": 8,
   "metadata": {
    "scrolled": true
   },
   "outputs": [
    {
     "data": {
      "image/png": "[encoded data removed]",
      "text/plain": [
       "<Figure size 432x288 with 1 Axes>"
      ]
     },
     "metadata": {
      "needs_background": "light"
     },
     "output_type": "display_data"
    }
   ],
   "source": [
    "# Build a scatter plot for each data type\n",
    "plt.scatter(weather_df[\"lat\"], weather_df[\"temp\"], marker=\"o\")\n",
    "\n",
    "# Incorporate the other graph properties\n",
    "plt.title(\"Latitude vs Temperature\")\n",
    "plt.xlabel(\"Latitude\")\n",
    "plt.ylabel(\"Temperature (Celsius)\")\n",
    "plt.grid(True)\n",
    "\n",
    "# Save the figure\n",
    "plt.savefig(\"Fig1.png\")\n",
    "\n",
    "# Show plot\n",
    "plt.show()"
   ]
  },
  {
   "cell_type": "markdown",
   "metadata": {},
   "source": [
    "## Latitude vs. Humidity Plot"
   ]
  },
  {
   "cell_type": "code",
   "execution_count": 9,
   "metadata": {},
   "outputs": [
    {
     "data": {
      "image/png": "[encoded data removed]",
      "text/plain": [
       "<Figure size 432x288 with 1 Axes>"
      ]
     },
     "metadata": {
      "needs_background": "light"
     },
     "output_type": "display_data"
    }
   ],
   "source": [
    "# Build a scatter plot for each data type\n",
    "plt.scatter(weather_df[\"lat\"], weather_df[\"humidity\"], marker=\"o\")\n",
    "\n",
    "# Incorporate the other graph properties\n",
    "plt.title(\"Latitude vs Humidity\")\n",
    "plt.xlabel(\"Latitude\")\n",
    "plt.ylabel(\"Humidity (%)\")\n",
    "plt.grid(True)\n",
    "\n",
    "# Save the figure\n",
    "plt.savefig(\"Fig2.png\")\n",
    "\n",
    "# Show plot\n",
    "plt.show()"
   ]
  },
  {
   "cell_type": "markdown",
   "metadata": {},
   "source": [
    "## Latitude vs. Cloudiness Plot"
   ]
  },
  {
   "cell_type": "code",
   "execution_count": 10,
   "metadata": {},
   "outputs": [
    {
     "data": {
      "image/png": "[encoded data removed]",
      "text/plain": [
       "<Figure size 432x288 with 1 Axes>"
      ]
     },
     "metadata": {
      "needs_background": "light"
     },
     "output_type": "display_data"
    }
   ],
   "source": [
    "# Build a scatter plot for each data type\n",
    "plt.scatter(weather_df[\"lat\"], weather_df[\"cloudiness\"], marker=\"o\")\n",
    "\n",
    "# Incorporate the other graph properties\n",
    "plt.title(\"Latitude vs Cloudiness\")\n",
    "plt.xlabel(\"Latitude\")\n",
    "plt.ylabel(\"Cloudiness\")\n",
    "plt.grid(True)\n",
    "\n",
    "# Save the figure\n",
    "plt.savefig(\"Fig3.png\")\n",
    "\n",
    "# Show plot\n",
    "plt.show()"
   ]
  },
  {
   "cell_type": "markdown",
   "metadata": {},
   "source": [
    "## Latitude vs. Wind Speed Plot"
   ]
  },
  {
   "cell_type": "code",
   "execution_count": 14,
   "metadata": {},
   "outputs": [
    {
     "data": {
      "image/png": "[encoded data removed]",
      "text/plain": [
       "<Figure size 432x288 with 1 Axes>"
      ]
     },
     "metadata": {
      "needs_background": "light"
     },
     "output_type": "display_data"
    }
   ],
   "source": [
    "# Build a scatter plot for each data type\n",
    "plt.scatter(weather_df[\"lat\"], weather_df[\"wind speed\"], marker=\"o\")\n",
    "\n",
    "# Incorporate the other graph properties\n",
    "plt.title(\"Latitude vs Wind Speed\")\n",
    "plt.xlabel(\"Latitude\")\n",
    "plt.ylabel(\"Wind Speed\")\n",
    "plt.grid(True)\n",
    "\n",
    "# Save the figure\n",
    "plt.savefig(\"Fig4.png\")\n",
    "\n",
    "# Show plot\n",
    "plt.show()"
   ]
  },
  {
   "cell_type": "markdown",
   "metadata": {},
   "source": [
    "## Linear Regression"
   ]
  },
  {
   "cell_type": "code",
   "execution_count": 17,
   "metadata": {},
   "outputs": [],
   "source": [
    "nh_df = weather_df.loc[(weather_df['lat'] >= 0)]\n",
    "sh_df = weather_df.loc[(weather_df['lat'] < 0)]"
   ]
  },
  {
   "cell_type": "markdown",
   "metadata": {},
   "source": [
    "####  Northern Hemisphere - Max Temp vs. Latitude Linear Regression"
   ]
  },
  {
   "cell_type": "code",
   "execution_count": 29,
   "metadata": {},
   "outputs": [
    {
     "name": "stdout",
     "output_type": "stream",
     "text": [
      "The r-squared is: 0.7728857167974981\n"
     ]
    },
    {
     "data": {
      "image/png": "[encoded data removed]",
      "text/plain": [
       "<Figure size 432x288 with 1 Axes>"
      ]
     },
     "metadata": {
      "needs_background": "light"
     },
     "output_type": "display_data"
    }
   ],
   "source": [
    "x_values = nh_df['lat']\n",
    "y_values = nh_df['temp']\n",
    "(slope, intercept, rvalue, pvalue, stderr) = linregress(x_values, y_values)\n",
    "regress_values = x_values * slope + intercept\n",
    "line_eq = \"y = \" + str(round(slope,2)) + \"x + \" + str(round(intercept,2))\n",
    "plt.scatter(x_values,y_values)\n",
    "plt.plot(x_values,regress_values,\"r-\")\n",
    "plt.annotate(line_eq,(6,-20),fontsize=15,color=\"red\")\n",
    "plt.xlabel('Latitude')\n",
    "plt.ylabel('Temp')\n",
    "print(f\"The r-squared is: {rvalue**2}\")\n",
    "plt.show()"
   ]
  },
  {
   "cell_type": "markdown",
   "metadata": {},
   "source": [
    "####  Southern Hemisphere - Max Temp vs. Latitude Linear Regression"
   ]
  },
  {
   "cell_type": "code",
   "execution_count": 26,
   "metadata": {},
   "outputs": [
    {
     "name": "stdout",
     "output_type": "stream",
     "text": [
      "The r-squared is: 0.11281840612720467\n"
     ]
    },
    {
     "data": {
      "image/png": "[encoded data removed]",
      "text/plain": [
       "<Figure size 432x288 with 1 Axes>"
      ]
     },
     "metadata": {
      "needs_background": "light"
     },
     "output_type": "display_data"
    }
   ],
   "source": [
    "x_values = sh_df['lat']\n",
    "y_values = sh_df['temp']\n",
    "(slope, intercept, rvalue, pvalue, stderr) = linregress(x_values, y_values)\n",
    "regress_values = x_values * slope + intercept\n",
    "line_eq = \"y = \" + str(round(slope,2)) + \"x + \" + str(round(intercept,2))\n",
    "plt.scatter(x_values,y_values)\n",
    "plt.plot(x_values,regress_values,\"r-\")\n",
    "plt.annotate(line_eq,(-20,15),fontsize=15,color=\"red\")\n",
    "plt.xlabel('Latitude')\n",
    "plt.ylabel('Temp')\n",
    "print(f\"The r-squared is: {rvalue**2}\")\n",
    "plt.show()"
   ]
  },
  {
   "cell_type": "markdown",
   "metadata": {},
   "source": [
    "####  Northern Hemisphere - Humidity (%) vs. Latitude Linear Regression"
   ]
  },
  {
   "cell_type": "code",
   "execution_count": 20,
   "metadata": {},
   "outputs": [
    {
     "name": "stdout",
     "output_type": "stream",
     "text": [
      "The r-squared is: 0.13269358361244282\n"
     ]
    },
    {
     "data": {
      "image/png": "[encoded data removed]",
      "text/plain": [
       "<Figure size 432x288 with 1 Axes>"
      ]
     },
     "metadata": {
      "needs_background": "light"
     },
     "output_type": "display_data"
    }
   ],
   "source": [
    "x_values = nh_df['lat']\n",
    "y_values = nh_df['humidity']\n",
    "(slope, intercept, rvalue, pvalue, stderr) = linregress(x_values, y_values)\n",
    "regress_values = x_values * slope + intercept\n",
    "line_eq = \"y = \" + str(round(slope,2)) + \"x + \" + str(round(intercept,2))\n",
    "plt.scatter(x_values,y_values)\n",
    "plt.plot(x_values,regress_values,\"r-\")\n",
    "plt.annotate(line_eq,(6,10),fontsize=15,color=\"red\")\n",
    "plt.xlabel('Humidity')\n",
    "plt.ylabel('Temp')\n",
    "print(f\"The r-squared is: {rvalue**2}\")\n",
    "plt.show()"
   ]
  },
  {
   "cell_type": "markdown",
   "metadata": {},
   "source": [
    "####  Southern Hemisphere - Humidity (%) vs. Latitude Linear Regression"
   ]
  },
  {
   "cell_type": "code",
   "execution_count": 27,
   "metadata": {},
   "outputs": [
    {
     "name": "stdout",
     "output_type": "stream",
     "text": [
      "The r-squared is: 0.1346774821676317\n"
     ]
    },
    {
     "data": {
      "image/png": "[encoded data removed]",
      "text/plain": [
       "<Figure size 432x288 with 1 Axes>"
      ]
     },
     "metadata": {
      "needs_background": "light"
     },
     "output_type": "display_data"
    }
   ],
   "source": [
    "x_values = sh_df['lat']\n",
    "y_values = sh_df['humidity']\n",
    "(slope, intercept, rvalue, pvalue, stderr) = linregress(x_values, y_values)\n",
    "regress_values = x_values * slope + intercept\n",
    "line_eq = \"y = \" + str(round(slope,2)) + \"x + \" + str(round(intercept,2))\n",
    "plt.scatter(x_values,y_values)\n",
    "plt.plot(x_values,regress_values,\"r-\")\n",
    "plt.annotate(line_eq,(-20,15),fontsize=15,color=\"red\")\n",
    "plt.xlabel('Humidity')\n",
    "plt.ylabel('Temp')\n",
    "print(f\"The r-squared is: {rvalue**2}\")\n",
    "plt.show()"
   ]
  },
  {
   "cell_type": "markdown",
   "metadata": {},
   "source": [
    "####  Northern Hemisphere - Cloudiness (%) vs. Latitude Linear Regression"
   ]
  },
  {
   "cell_type": "code",
   "execution_count": 25,
   "metadata": {},
   "outputs": [
    {
     "name": "stdout",
     "output_type": "stream",
     "text": [
      "The r-squared is: 0.08960364292287874\n"
     ]
    },
    {
     "data": {
      "image/png": "[encoded data removed]",
      "text/plain": [
       "<Figure size 432x288 with 1 Axes>"
      ]
     },
     "metadata": {
      "needs_background": "light"
     },
     "output_type": "display_data"
    }
   ],
   "source": [
    "x_values = nh_df['lat']\n",
    "y_values = nh_df['cloudiness']\n",
    "(slope, intercept, rvalue, pvalue, stderr) = linregress(x_values, y_values)\n",
    "regress_values = x_values * slope + intercept\n",
    "line_eq = \"y = \" + str(round(slope,2)) + \"x + \" + str(round(intercept,2))\n",
    "plt.scatter(x_values,y_values)\n",
    "plt.plot(x_values,regress_values,\"r-\")\n",
    "plt.annotate(line_eq,(6,10),fontsize=15,color=\"red\")\n",
    "plt.xlabel('Cloudiness')\n",
    "plt.ylabel('Temp')\n",
    "print(f\"The r-squared is: {rvalue**2}\")\n",
    "plt.show()"
   ]
  },
  {
   "cell_type": "markdown",
   "metadata": {},
   "source": [
    "####  Southern Hemisphere - Cloudiness (%) vs. Latitude Linear Regression"
   ]
  },
  {
   "cell_type": "code",
   "execution_count": 28,
   "metadata": {},
   "outputs": [
    {
     "name": "stdout",
     "output_type": "stream",
     "text": [
      "The r-squared is: 0.19862602916818187\n"
     ]
    },
    {
     "data": {
      "image/png": "[encoded data removed]",
      "text/plain": [
       "<Figure size 432x288 with 1 Axes>"
      ]
     },
     "metadata": {
      "needs_background": "light"
     },
     "output_type": "display_data"
    }
   ],
   "source": [
    "x_values = sh_df['lat']\n",
    "y_values = sh_df['cloudiness']\n",
    "(slope, intercept, rvalue, pvalue, stderr) = linregress(x_values, y_values)\n",
    "regress_values = x_values * slope + intercept\n",
    "line_eq = \"y = \" + str(round(slope,2)) + \"x + \" + str(round(intercept,2))\n",
    "plt.scatter(x_values,y_values)\n",
    "plt.plot(x_values,regress_values,\"r-\")\n",
    "plt.annotate(line_eq,(-20,15),fontsize=15,color=\"red\")\n",
    "plt.xlabel('Cloudiness')\n",
    "plt.ylabel('Temp')\n",
    "print(f\"The r-squared is: {rvalue**2}\")\n",
    "plt.show()"
   ]
  },
  {
   "cell_type": "markdown",
   "metadata": {},
   "source": [
    "####  Northern Hemisphere - Wind Speed (mph) vs. Latitude Linear Regression"
   ]
  },
  {
   "cell_type": "code",
   "execution_count": 23,
   "metadata": {},
   "outputs": [
    {
     "name": "stdout",
     "output_type": "stream",
     "text": [
      "The r-squared is: 0.0014402991874598824\n"
     ]
    },
    {
     "data": {
      "image/png": "[encoded data removed]",
      "text/plain": [
       "<Figure size 432x288 with 1 Axes>"
      ]
     },
     "metadata": {
      "needs_background": "light"
     },
     "output_type": "display_data"
    }
   ],
   "source": [
    "x_values = nh_df['wind speed']\n",
    "y_values = nh_df['humidity']\n",
    "(slope, intercept, rvalue, pvalue, stderr) = linregress(x_values, y_values)\n",
    "regress_values = x_values * slope + intercept\n",
    "line_eq = \"y = \" + str(round(slope,2)) + \"x + \" + str(round(intercept,2))\n",
    "plt.scatter(x_values,y_values)\n",
    "plt.plot(x_values,regress_values,\"r-\")\n",
    "plt.annotate(line_eq,(6,10),fontsize=15,color=\"red\")\n",
    "plt.xlabel('Wind Speed')\n",
    "plt.ylabel('Temp')\n",
    "print(f\"The r-squared is: {rvalue**2}\")\n",
    "plt.show()"
   ]
  },
  {
   "cell_type": "markdown",
   "metadata": {},
   "source": [
    "####  Southern Hemisphere - Wind Speed (mph) vs. Latitude Linear Regression"
   ]
  },
  {
   "cell_type": "code",
   "execution_count": 22,
   "metadata": {},
   "outputs": [
    {
     "name": "stdout",
     "output_type": "stream",
     "text": [
      "The r-squared is: 0.1321014195354662\n"
     ]
    },
    {
     "data": {
      "image/png": "[encoded data removed]",
      "text/plain": [
       "<Figure size 432x288 with 1 Axes>"
      ]
     },
     "metadata": {
      "needs_background": "light"
     },
     "output_type": "display_data"
    }
   ],
   "source": [
    "x_values = sh_df['wind speed']\n",
    "y_values = sh_df['humidity']\n",
    "(slope, intercept, rvalue, pvalue, stderr) = linregress(x_values, y_values)\n",
    "regress_values = x_values * slope + intercept\n",
    "line_eq = \"y = \" + str(round(slope,2)) + \"x + \" + str(round(intercept,2))\n",
    "plt.scatter(x_values,y_values)\n",
    "plt.plot(x_values,regress_values,\"r-\")\n",
    "plt.annotate(line_eq,(6,10),fontsize=15,color=\"red\")\n",
    "plt.xlabel('Wind Speed')\n",
    "plt.ylabel('Temp')\n",
    "print(f\"The r-squared is: {rvalue**2}\")\n",
    "plt.show()"
   ]
  },
  {
   "cell_type": "code",
   "execution_count": null,
   "metadata": {},
   "outputs": [],
   "source": []
  }
 ],
 "metadata": {
  "anaconda-cloud": {},
  "kernel_info": {
   "name": "python3"
  },
  "kernelspec": {
   "display_name": "Python 3 (ipykernel)",
   "language": "python",
   "name": "python3"
  },
  "language_info": {
   "codemirror_mode": {
    "name": "ipython",
    "version": 3
   },
   "file_extension": ".py",
   "mimetype": "text/x-python",
   "name": "python",
   "nbconvert_exporter": "python",
   "pygments_lexer": "ipython3",
   "version": "3.9.7"
  },
  "latex_envs": {
   "LaTeX_envs_menu_present": true,
   "autoclose": false,
   "autocomplete": true,
   "bibliofile": "biblio.bib",
   "cite_by": "apalike",
   "current_citInitial": 1,
   "eqLabelWithNumbers": true,
   "eqNumInitial": 1,
   "hotkeys": {
    "equation": "Ctrl-E",
    "itemize": "Ctrl-I"
   },
   "labels_anchors": false,
   "latex_user_defs": false,
   "report_style_numbering": false,
   "user_envs_cfg": false
  },
  "nteract": {
   "version": "0.12.3"
  }
 },
 "nbformat": 4,
 "nbformat_minor": 2
}
